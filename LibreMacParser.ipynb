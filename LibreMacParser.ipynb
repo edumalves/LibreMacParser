{
    "cells": [
        {
            "cell_type": "markdown",
            "source": [
                "**Main Routine - Export Clean Freestyle Libre data from original csv**"
            ],
            "metadata": {}
        },
        {
            "cell_type": "code",
            "execution_count": null,
            "source": [
                "import pandas as pd\r\n",
                "import datetime\r\n",
                "import dateparser as dp\r\n",
                "\r\n",
                "rawdata = pd.read_csv(\"EduardoAlves_glucose.csv\", header=1, parse_dates=True, index_col='Device Timestamp', infer_datetime_format=True)\r\n",
                "datekeeper = open(\"LibreMacParser.ini\", \"r\")\r\n",
                "dateonfile = datekeeper.read()\r\n",
                "\r\n",
                "last_export_date = dp.parse(dateonfile)\r\n",
                "\r\n",
                "new_logs = rawdata[rawdata.index >= last_export_date]\r\n",
                "\r\n",
                "new_export_date = new_logs.index[-1]\r\n",
                "\r\n",
                "new_logs.to_csv('GlucoseExport.csv')\r\n",
                "\r\n",
                "datekeeper.close\r\n",
                "datekeeper = open(\"LibreMacParser.ini\", \"w\")\r\n",
                "datekeeper.write(str(new_export_date))\r\n",
                "datekeeper.close\r\n",
                "\r\n",
                "print(\"Export file successfully generated.\")\r\n",
                "print(\"Export data from\", str(dateonfile))\r\n",
                "print(\"Last data exported is as of\", str(new_export_date))"
            ],
            "outputs": [],
            "metadata": {}
        },
        {
            "cell_type": "code",
            "execution_count": 15,
            "source": [
                "import pandas as pd\r\n",
                "import datetime\r\n",
                "import dateparser as dp\r\n",
                "\r\n",
                "rawdata = pd.read_csv(\"EduardoAlves_glucose.csv\", header=1, parse_dates=True, index_col='Device Timestamp', infer_datetime_format=True)\r\n",
                "datekeeper = open(\"LibreMacParser.ini\", \"r\")\r\n",
                "dateonfile = datekeeper.read()\r\n",
                "\r\n",
                "last_export_date = dp.parse(dateonfile)\r\n",
                "\r\n",
                "new_logs = rawdata[rawdata.index >= last_export_date]\r\n",
                "\r\n",
                "hist_glucose = new_logs['Historic Glucose mg/dL'].notnull() == True\r\n",
                "scan_glucose = new_logs['Scan Glucose mg/dL'].notnull() == True\r\n",
                "\r\n",
                "filtered_logs = new_logs[scan_glucose | hist_glucose]\r\n",
                "\r\n",
                "print(filtered_logs)\r\n",
                "\r\n",
                "new_export_date = new_logs.index[-1]\r\n",
                "\r\n",
                "\r\n",
                "\r\n",
                "print(\"Export file successfully generated.\")\r\n",
                "print(\"Export data from\", str(dateonfile))\r\n",
                "print(\"Last data exported is as of\", str(new_export_date))"
            ],
            "outputs": [
                {
                    "output_type": "stream",
                    "name": "stdout",
                    "text": [
                        "                                  Device  \\\n",
                        "Device Timestamp                           \n",
                        "2021-07-29 11:30:00  FreeStyle LibreLink   \n",
                        "\n",
                        "                                            Serial Number  Record Type  \\\n",
                        "Device Timestamp                                                         \n",
                        "2021-07-29 11:30:00  303B0541-873B-482B-926C-029EACBD249A            1   \n",
                        "\n",
                        "                     Historic Glucose mg/dL  Scan Glucose mg/dL  \\\n",
                        "Device Timestamp                                                  \n",
                        "2021-07-29 11:30:00                     NaN               260.0   \n",
                        "\n",
                        "                     Non-numeric Rapid-Acting Insulin  \\\n",
                        "Device Timestamp                                        \n",
                        "2021-07-29 11:30:00                               NaN   \n",
                        "\n",
                        "                     Rapid-Acting Insulin (units)  Non-numeric Food  \\\n",
                        "Device Timestamp                                                      \n",
                        "2021-07-29 11:30:00                           NaN               NaN   \n",
                        "\n",
                        "                     Carbohydrates (grams)  Carbohydrates (servings)  \\\n",
                        "Device Timestamp                                                       \n",
                        "2021-07-29 11:30:00                    NaN                       NaN   \n",
                        "\n",
                        "                     Non-numeric Long-Acting Insulin  \\\n",
                        "Device Timestamp                                       \n",
                        "2021-07-29 11:30:00                              NaN   \n",
                        "\n",
                        "                     Long-Acting Insulin (units)  Notes  Strip Glucose mg/dL  \\\n",
                        "Device Timestamp                                                               \n",
                        "2021-07-29 11:30:00                          NaN    NaN                  NaN   \n",
                        "\n",
                        "                     Ketone mmol/L  Meal Insulin (units)  \\\n",
                        "Device Timestamp                                           \n",
                        "2021-07-29 11:30:00            NaN                   NaN   \n",
                        "\n",
                        "                     Correction Insulin (units)  User Change Insulin (units)  \n",
                        "Device Timestamp                                                              \n",
                        "2021-07-29 11:30:00                         NaN                          NaN  \n",
                        "Export file successfully generated.\n",
                        "Export data from 2021-07-29 11:30:00\n",
                        "Last data exported is as of 2021-07-29 11:30:00\n"
                    ]
                }
            ],
            "metadata": {}
        }
    ],
    "metadata": {
        "orig_nbformat": 4,
        "language_info": {
            "name": "python",
            "version": "3.9.6",
            "mimetype": "text/x-python",
            "codemirror_mode": {
                "name": "ipython",
                "version": 3
            },
            "pygments_lexer": "ipython3",
            "nbconvert_exporter": "python",
            "file_extension": ".py"
        },
        "kernelspec": {
            "name": "python3",
            "display_name": "Python 3.9.6 64-bit"
        },
        "interpreter": {
            "hash": "6ffb37b5a3c5de2ae927ffe7e1b8a3b6c3491f74b373b89ce0ce4359b70bb754"
        }
    },
    "nbformat": 4,
    "nbformat_minor": 2
}