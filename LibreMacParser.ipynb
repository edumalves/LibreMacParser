{
    "cells": [
        {
            "cell_type": "markdown",
            "source": [
                "Main Routine - Export Clean Freestyle Libre data from original csv"
            ],
            "metadata": {}
        },
        {
            "cell_type": "code",
            "execution_count": 1,
            "source": [
                "import pandas as pd\r\n",
                "import dateparser as dp\r\n",
                "\r\n",
                "rawdata = pd.read_csv(\"EduardoAlves_glucose.csv\", header=1, parse_dates=True, index_col='Device Timestamp', infer_datetime_format=True)\r\n",
                "datekeeper = open(\"LibreMacParser.ini\", \"r\")\r\n",
                "dateonfile = datekeeper.read()\r\n",
                "\r\n",
                "last_export_date = dp.parse(dateonfile)\r\n",
                "\r\n",
                "new_logs = rawdata[rawdata.index >= last_export_date]\r\n",
                "\r\n",
                "new_export_date = new_logs.index[-1]\r\n",
                "\r\n",
                "new_logs.to_csv('GlucoseExport.csv')\r\n",
                "\r\n",
                "datekeeper.close\r\n",
                "datekeeper = open(\"LibreMacParser.ini\", \"w\")\r\n",
                "datekeeper.write(str(new_export_date))\r\n",
                "datekeeper.close\r\n",
                "\r\n",
                "print(\"Export file successfully generated.\")\r\n",
                "print(\"Export data from\", str(dateonfile))\r\n",
                "print(\"Last data exported is as of\", str(new_export_date))"
            ],
            "outputs": [
                {
                    "output_type": "stream",
                    "name": "stdout",
                    "text": [
                        "Export file successfully generated.\n",
                        "Export data from 2021-07-08 22:41:00\n",
                        "Last data exported is as of 2021-07-08 22:41:00\n"
                    ]
                }
            ],
            "metadata": {}
        }
    ],
    "metadata": {
        "orig_nbformat": 4,
        "language_info": {
            "name": "python",
            "version": "3.9.6",
            "mimetype": "text/x-python",
            "codemirror_mode": {
                "name": "ipython",
                "version": 3
            },
            "pygments_lexer": "ipython3",
            "nbconvert_exporter": "python",
            "file_extension": ".py"
        },
        "kernelspec": {
            "name": "python3",
            "display_name": "Python 3.9.6 64-bit"
        },
        "interpreter": {
            "hash": "6ffb37b5a3c5de2ae927ffe7e1b8a3b6c3491f74b373b89ce0ce4359b70bb754"
        }
    },
    "nbformat": 4,
    "nbformat_minor": 2
}